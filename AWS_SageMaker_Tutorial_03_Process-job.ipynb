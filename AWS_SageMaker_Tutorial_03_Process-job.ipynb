{
 "cells": [
  {
   "cell_type": "markdown",
   "metadata": {
    "id": "QSXVAYNN148x"
   },
   "source": [
    "# AWS SageMaker Tutorial Part 3\n",
    "https://smusg.udemy.com/course/build-an-aws-machine-learning-pipeline-for-object-detection/learn/lecture/36969246#overview\n",
    "-\thttps://github.com/patrikszepesi/EcoAI (MERN app code)\n",
    "-\thttps://github.com/patrikszepesi/MachineLearningSourceCodeCourse2 (ML code)\n"
   ]
  },
  {
   "cell_type": "markdown",
   "metadata": {
    "id": "13oz76C702VU"
   },
   "source": [
    "# Collab Shortcuts\n",
    "Moving / Creating / Deleting\n",
    "*   move cell up ctrl+m K\n",
    "*   move cell down ctrl+m J\n",
    "*   create a new cell above ctrl+m a\n",
    "*   create a new cell below ctrl+m b\n",
    "*   delete a cell ctrl+m d\n",
    "\n",
    "Conversion\n",
    "*   convert a text cell to code cell ctrl + m + y\n",
    "*   convert a code cellt o text cell ctrl + m + m (double tap m)\n",
    "\n",
    "Find and Replace\n",
    "*   find and replace within cell ctrl + shift + h\n",
    "*   find and replace within entire notebook ctrl + h\n",
    "\n",
    "Running code\n",
    "*   ctrl + enter to run current cell\n",
    "*   alt + Enter to run current cell and create new cell below\n",
    "*   ctrl + shift + enter to run selection\n",
    "\n",
    "\n",
    "\n",
    "\n",
    "```\n",
    "# ctrl + m + i to interrupt m\n",
    "# ctrl + m + l to toggle line numbers\n",
    "# ctrl + m + o to toggle output\n",
    "print ('1')\n",
    "```\n"
   ]
  },
  {
   "cell_type": "markdown",
   "metadata": {
    "id": "NXsNS9j20gYy"
   },
   "source": [
    "# Setting up Step Functions\n",
    "State machine\n",
    "\n",
    "AWS Step Functions is a serverless orchestration service that lets you integrate with AWS Lambda functions and other AWS services to build business critical applications.\n",
    "\n",
    "And through the graphical console you can see your applications workflow as a series of event driven \"steps\" and step functions are based on state machines and tasks.\n",
    "\n",
    "* A state machine is basically a workflow \n",
    "* A task is a state in a workflow that represents a single unit of work that other AWS service performs.\n",
    "\n",
    "So basically each step in a workflow is a state, and there are three ways you can create your step functions:\n",
    "* Using drag and drop nodes (Design your workflow visually)\n",
    "* Coding from scratch (Write your workflow)\n",
    "* Using pre-build templates (Run a sample project)\n",
    "<br>\n",
    "<br>\n",
    "<center><img src=\"img/stepfunction 00.png\"/></center>\n",
    "<p style=\"text-align: center\">\n",
    "    <b>Step Function Creation</b>\n",
    "</p><br>\n",
    "\n",
    "<div style=\"display: flex; justify-content: center; align-items: center;\">\n",
    "    <img src=\"img/stepfunction 01.png\" style=\"margin: 10px; max-width: 50%; height: auto;\"/>\n",
    "    <img src=\"img/stepfunction 02.png\" style=\"margin: 10px; max-width: 50%; height: auto;\"/>\n",
    "</div>\n",
    "<p style=\"text-align: center\">\n",
    "    <b>Optional visual method</b>\n",
    "</p>\n",
    "\n",
    "<div style=\"display: flex; justify-content: center; align-items: center;\">\n",
    "    <img src=\"img/stepfunction 03.png\" style=\"margin: 10px; max-width: 50%; height: auto;\"/>\n",
    "    <img src=\"img/stepfunction 04.png\" style=\"margin: 10px; max-width: 50%; height: auto;\"/>\n",
    "</div>\n",
    "<p style=\"text-align: center\">\n",
    "    <b>Select Job Poller under \"Run a sample project...\"</b>\n",
    "</p>\n",
    "\n",
    "For the sake of learning to code, select \"Run a sample project...\" and scroll down to select \"Job Poller\"\n",
    "\n",
    "In an asynchronous process, the system can perform other tasks or simply wait without blocking resources while the batch job completes.\n",
    "The polling mechanism checks the job status at intervals, and once the job is complete, it triggers the next step (Lambda function) without blocking the entire workflow.\n",
    "\n",
    "The reason we're using this is because our workflow consists of:\n",
    "* starting an AWS batch transformation job \n",
    "* checking to see if that job is finished. \n",
    "* if the job is finished, save the results to S3 using a lambda function.\n",
    "\n",
    "<div style=\"display: flex; justify-content: center; align-items: center;\">\n",
    "    <img src=\"img/stepfunction 05.png\" style=\"margin: 10px; max-width: 50%; height: auto;\"/>\n",
    "    <img src=\"img/stepfunction 06.png\" style=\"margin: 10px; max-width: 50%; height: auto;\"/>\n",
    "</div>\n",
    "<p style=\"text-align: center\">\n",
    "    <b>Click the StackID to view CloudFormation process</b>\n",
    "</p>\n",
    "\n",
    "Deploy the resources necessary to create the step function using AWS CloudFormation (automates creation of the Lambda functions). (**Note this can take up to 10 min**).\n",
    "\n",
    "<div style=\"display: flex; justify-content: center; align-items: center;\">\n",
    "    <img src=\"img/stepfunction 07.png\" style=\"margin: 10px; max-width: 50%; height: auto;\"/>\n",
    "    <img src=\"img/stepfunction 08.png\" style=\"margin: 10px; max-width: 50%; height: auto;\"/>\n",
    "</div>\n",
    "<p style=\"text-align: center\">\n",
    "    <b>Refresh often to check CloudFormation completion.</b>\n",
    "</p>\n",
    "\n",
    "\n",
    "<center><img src=\"img/stepfunction 09.png\"/></center>\n",
    "<div style=\"display: flex; justify-content: center; align-items: center;\">\n",
    "    <img src=\"img/stepfunction 10.png\" style=\"margin: 10px; max-width: 50%; height: auto;\"/>\n",
    "    <img src=\"img/stepfunction 11.png\" style=\"margin: 10px; max-width: 50%; height: auto;\"/>\n",
    "</div>\n",
    "<p style=\"text-align: center\">\n",
    "    <b>View of created State Machine workflow for AWS Step Function.</b>\n",
    "</p>"
   ]
  },
  {
   "cell_type": "markdown",
   "metadata": {},
   "source": [
    "# Modify Lambda Function\n",
    "Proceed into the Pol-Submit Lambda function to modify it\n",
    "\n",
    "<center><img src=\"img/lambda 01.png\"/></center>\n",
    "<div style=\"display: flex; justify-content: center; align-items: center;\">\n",
    "    <img src=\"img/lambda 02.png\" style=\"margin: 10px; max-width: 50%; height: auto;\"/>\n",
    "    <img src=\"img/lambda 03.png\" style=\"margin: 10px; max-width: 50%; height: auto;\"/>\n",
    "</div>\n",
    "<p style=\"text-align: center\">\n",
    "    <b>Modify the Lambda function code.</b>\n",
    "</p>\n",
    "\n",
    "<center><img src=\"img/lambda 05.png\"/></center>\n",
    "<div style=\"display: flex; justify-content: center; align-items: center;\">\n",
    "    <img src=\"img/lambda 04.png\" style=\"margin: 10px; max-width: 50%; height: auto;\"/>\n",
    "    <img src=\"img/lambda 05.png\" style=\"margin: 10px; max-width: 50%; height: auto;\"/>\n",
    "</div>\n",
    "<p style=\"text-align: center\">\n",
    "    <b>Create test event to test deployed Lambda code.</b>\n",
    "</p>\n"
   ]
  },
  {
   "cell_type": "markdown",
   "metadata": {
    "vscode": {
     "languageId": "plaintext"
    }
   },
   "source": [
    "# Modify Lambda Function\n",
    "Proceed into the Pol-Submit Lambda function to modify it\n",
    "\n",
    "<center><img src=\"img/lambda 01.png\"/></center>\n",
    "<div style=\"display: flex; justify-content: center; align-items: center;\">\n",
    "    <img src=\"img/lambda 02.png\" style=\"margin: 10px; max-width: 50%; height: auto;\"/>\n",
    "    <img src=\"img/lambda 03.png\" style=\"margin: 10px; max-width: 50%; height: auto;\"/>\n",
    "</div>\n",
    "<p style=\"text-align: center\">\n",
    "    <b>Modify the Lambda function code and deploy it. Create any test event for the test</b>\n",
    "</p>\n",
    "\n",
    "\n",
    "```\n",
    "{\n",
    "    \"key1\": 100,\n",
    "    \"key2\": 200,\n",
    "}\n",
    "```\n",
    "\n",
    "<!-- <center><img src=\"img/lambda 05.png\"/></center> -->\n",
    "<div style=\"display: flex; justify-content: center; align-items: center;\">\n",
    "    <img src=\"img/lambda 05.png\" style=\"margin: 10px; max-width: 50%; height: auto;\"/>\n",
    "    <img src=\"img/lambda 04.png\" style=\"margin: 10px; max-width: 50%; height: auto;\"/>\n",
    "</div>\n",
    "<p style=\"text-align: center\">\n",
    "    <b>Run test to ensure Lambda code works.</b>\n",
    "</p>\n"
   ]
  },
  {
   "cell_type": "markdown",
   "metadata": {},
   "source": [
    "# End"
   ]
  }
 ],
 "metadata": {
  "colab": {
   "provenance": []
  },
  "kernelspec": {
   "display_name": "Python 3 (ipykernel)",
   "language": "python",
   "name": "python3"
  },
  "language_info": {
   "codemirror_mode": {
    "name": "ipython",
    "version": 3
   },
   "file_extension": ".py",
   "mimetype": "text/x-python",
   "name": "python",
   "nbconvert_exporter": "python",
   "pygments_lexer": "ipython3",
   "version": "3.11.11"
  }
 },
 "nbformat": 4,
 "nbformat_minor": 4
}
